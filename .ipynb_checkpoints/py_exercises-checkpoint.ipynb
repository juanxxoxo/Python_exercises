{
 "cells": [
  {
   "cell_type": "code",
   "execution_count": 3,
   "id": "ead2d407",
   "metadata": {},
   "outputs": [
    {
     "name": "stdout",
     "output_type": "stream",
     "text": [
      "Hello World\n"
     ]
    }
   ],
   "source": [
    "print(\"Hello World\")"
   ]
  },
  {
   "cell_type": "code",
   "execution_count": 4,
   "id": "cf31d3a3",
   "metadata": {},
   "outputs": [],
   "source": [
    "a = \"Hello\"\n",
    "b = \" World\""
   ]
  },
  {
   "cell_type": "code",
   "execution_count": 5,
   "id": "e00332d3",
   "metadata": {},
   "outputs": [
    {
     "name": "stdout",
     "output_type": "stream",
     "text": [
      "Hello World\n"
     ]
    }
   ],
   "source": [
    "print(a + b)"
   ]
  },
  {
   "cell_type": "code",
   "execution_count": 3,
   "id": "e949f63a",
   "metadata": {},
   "outputs": [
    {
     "name": "stdout",
     "output_type": "stream",
     "text": [
      "27\n"
     ]
    }
   ],
   "source": [
    "a = 20\n",
    "b = 7\n",
    "\n",
    "addition = print(a + b)"
   ]
  },
  {
   "cell_type": "code",
   "execution_count": 7,
   "id": "0eb89ad1",
   "metadata": {},
   "outputs": [
    {
     "name": "stdout",
     "output_type": "stream",
     "text": [
      "168\n"
     ]
    }
   ],
   "source": [
    "c = 8\n",
    "d = 21\n",
    "multiplication = print(c * d) "
   ]
  },
  {
   "cell_type": "code",
   "execution_count": 1,
   "id": "a7b5d02d",
   "metadata": {},
   "outputs": [
    {
     "name": "stdout",
     "output_type": "stream",
     "text": [
      "What is your name?: Juan\n"
     ]
    },
    {
     "data": {
      "text/plain": [
       "'Juan'"
      ]
     },
     "execution_count": 1,
     "metadata": {},
     "output_type": "execute_result"
    }
   ],
   "source": [
    "input(\"What is your name?: \")"
   ]
  },
  {
   "cell_type": "code",
   "execution_count": 8,
   "id": "6e4259bb",
   "metadata": {},
   "outputs": [],
   "source": [
    "#Addition and Multiplication"
   ]
  },
  {
   "cell_type": "code",
   "execution_count": 4,
   "id": "34250aab",
   "metadata": {},
   "outputs": [
    {
     "name": "stdout",
     "output_type": "stream",
     "text": [
      "Type first value 5\n",
      "Type second value 4\n",
      "9\n"
     ]
    }
   ],
   "source": [
    "def addition ():\n",
    "    a = int(input(\"Type first value \"))\n",
    "    b = int(input(\"Type second value \"))\n",
    "    print(a + b)\n",
    "\n",
    "addition()\n",
    "    \n"
   ]
  },
  {
   "cell_type": "code",
   "execution_count": 5,
   "id": "bfb1fd16",
   "metadata": {},
   "outputs": [
    {
     "name": "stdout",
     "output_type": "stream",
     "text": [
      "Type first value: 3\n",
      "Type second value: 3\n",
      "9\n"
     ]
    }
   ],
   "source": [
    "def multiplication():\n",
    "    a = int(input(\"Type first value: \"))\n",
    "    b = int(input(\"Type second value: \"))\n",
    "    print(a * b)\n",
    "    \n",
    "multiplication()"
   ]
  },
  {
   "cell_type": "code",
   "execution_count": 6,
   "id": "e06ecc29",
   "metadata": {},
   "outputs": [],
   "source": [
    "## Greeting Function: Create a function that takes a person's name as input and returns a greeting message."
   ]
  },
  {
   "cell_type": "code",
   "execution_count": null,
   "id": "6d443710",
   "metadata": {},
   "outputs": [],
   "source": []
  }
 ],
 "metadata": {
  "kernelspec": {
   "display_name": "Python 3 (ipykernel)",
   "language": "python",
   "name": "python3"
  },
  "language_info": {
   "codemirror_mode": {
    "name": "ipython",
    "version": 3
   },
   "file_extension": ".py",
   "mimetype": "text/x-python",
   "name": "python",
   "nbconvert_exporter": "python",
   "pygments_lexer": "ipython3",
   "version": "3.10.11"
  }
 },
 "nbformat": 4,
 "nbformat_minor": 5
}
